{
 "cells": [
  {
   "cell_type": "markdown",
   "id": "3e53a148-7e7d-47b2-b81b-6021e1fd5a1d",
   "metadata": {},
   "source": [
    "## Nash equilibrium matrix"
   ]
  },
  {
   "cell_type": "code",
   "execution_count": 50,
   "id": "88f9e518-57c6-4fac-82ce-0f6660addbbc",
   "metadata": {},
   "outputs": [],
   "source": [
    "import numpy as np\n",
    "import matplotlib.pyplot as plt\n",
    "from matplotlib.colors import LinearSegmentedColormap"
   ]
  },
  {
   "cell_type": "code",
   "execution_count": 194,
   "id": "9a84923f-d3b8-4743-9f50-2f51d9a3777a",
   "metadata": {},
   "outputs": [],
   "source": [
    "nash_array = np.zeros((11,11))"
   ]
  },
  {
   "cell_type": "code",
   "execution_count": 196,
   "id": "c7785bc0-7c19-4b6e-afc5-5ec837ae0e15",
   "metadata": {},
   "outputs": [],
   "source": [
    "t_max = 10**3\n",
    "R = 10\n",
    "P = 5"
   ]
  },
  {
   "cell_type": "code",
   "execution_count": 198,
   "id": "8322f7c3-c9dc-4cd7-b938-a6da0ee920e0",
   "metadata": {},
   "outputs": [
    {
     "name": "stdout",
     "output_type": "stream",
     "text": [
      "total C at time: 0 10 5\n",
      "total C at time: 0 10 6\n",
      "total C at time: 0 10 7\n",
      "total C at time: 0 10 8\n",
      "total C at time: 0 10 9\n",
      "total C at time: 0 10 10\n",
      "total C at time: 0 10 11\n",
      "0 increment at time: 3 10 12\n",
      "0 increment at time: 14 10 13\n",
      "0 increment at time: 0 10 15\n",
      "total C at time: 0 9 5\n",
      "total C at time: 0 9 6\n",
      "total C at time: 0 9 7\n",
      "total C at time: 0 9 8\n",
      "total C at time: 0 9 9\n",
      "total C at time: 0 9 10\n",
      "0 increment at time: 3 9 11\n",
      "0 increment at time: 2 9 12\n",
      "0 increment at time: 5 9 13\n",
      "0 increment at time: 0 9 14\n",
      "total C at time: 0 8 5\n",
      "total C at time: 0 8 6\n",
      "total C at time: 0 8 7\n",
      "total C at time: 0 8 8\n",
      "total C at time: 0 8 9\n",
      "total C at time: 1 8 10\n",
      "0 increment at time: 1 8 11\n",
      "0 increment at time: 2 8 12\n",
      "0 increment at time: 0 8 13\n",
      "0 increment at time: 5 8 14\n",
      "0 increment at time: 14 8 15\n",
      "total C at time: 0 7 5\n",
      "total C at time: 0 7 6\n",
      "total C at time: 0 7 7\n",
      "total C at time: 0 7 8\n",
      "total C at time: 1 7 9\n",
      "total C at time: 3 7 10\n",
      "0 increment at time: 2 7 11\n",
      "0 increment at time: 0 7 12\n",
      "0 increment at time: 2 7 13\n",
      "0 increment at time: 2 7 14\n",
      "0 increment at time: 3 7 15\n",
      "total C at time: 0 6 5\n",
      "total C at time: 0 6 6\n",
      "total C at time: 0 6 7\n",
      "total C at time: 1 6 8\n",
      "total C at time: 1 6 9\n",
      "total C at time: 8 6 10\n",
      "0 increment at time: 0 6 11\n",
      "0 increment at time: 2 6 12\n",
      "0 increment at time: 1 6 13\n",
      "0 increment at time: 3 6 14\n",
      "total D at time: 0 6 15\n",
      "total C at time: 0 5 5\n",
      "total C at time: 0 5 6\n",
      "total C at time: 1 5 7\n",
      "total C at time: 1 5 8\n",
      "total C at time: 2 5 9\n",
      "0 increment at time: 0 5 10\n",
      "total D at time: 8 5 11\n",
      "total D at time: 3 5 12\n",
      "total D at time: 1 5 13\n",
      "total D at time: 0 5 14\n",
      "total D at time: 0 5 15\n",
      "total C at time: 0 4 5\n",
      "total C at time: 1 4 6\n",
      "total C at time: 1 4 7\n",
      "total C at time: 2 4 8\n",
      "0 increment at time: 0 4 9\n",
      "total D at time: 2 4 10\n",
      "total D at time: 1 4 11\n",
      "total D at time: 1 4 12\n",
      "total D at time: 0 4 13\n",
      "total D at time: 0 4 14\n",
      "total D at time: 0 4 15\n",
      "total C at time: 1 3 5\n",
      "total C at time: 1 3 6\n",
      "total C at time: 2 3 7\n",
      "0 increment at time: 0 3 8\n",
      "total D at time: 2 3 9\n",
      "total D at time: 1 3 10\n",
      "total D at time: 1 3 11\n",
      "total D at time: 0 3 12\n",
      "total D at time: 0 3 13\n",
      "total D at time: 0 3 14\n",
      "total D at time: 0 3 15\n",
      "total C at time: 1 2 5\n",
      "total C at time: 1 2 6\n",
      "0 increment at time: 0 2 7\n",
      "total D at time: 2 2 8\n",
      "total D at time: 1 2 9\n",
      "total D at time: 1 2 10\n",
      "total D at time: 0 2 11\n",
      "total D at time: 0 2 12\n",
      "total D at time: 0 2 13\n",
      "total D at time: 0 2 14\n",
      "total D at time: 0 2 15\n",
      "total C at time: 1 1 5\n",
      "0 increment at time: 0 1 6\n",
      "total D at time: 1 1 7\n",
      "total D at time: 1 1 8\n",
      "total D at time: 1 1 9\n",
      "total D at time: 0 1 10\n",
      "total D at time: 0 1 11\n",
      "total D at time: 0 1 12\n",
      "total D at time: 0 1 13\n",
      "total D at time: 0 1 14\n",
      "total D at time: 0 1 15\n",
      "0 increment at time: 0 0 5\n",
      "total D at time: 1 0 6\n",
      "total D at time: 1 0 7\n",
      "total D at time: 1 0 8\n",
      "total D at time: 0 0 9\n",
      "total D at time: 0 0 10\n",
      "total D at time: 0 0 11\n",
      "total D at time: 0 0 12\n",
      "total D at time: 0 0 13\n",
      "total D at time: 0 0 14\n",
      "total D at time: 0 0 15\n"
     ]
    }
   ],
   "source": [
    "eps = 1e-1\n",
    "for row in range(11):\n",
    "    for col in range(11):\n",
    "        t = 0\n",
    "        S = 10 - row\n",
    "        T = 5 + col\n",
    "        x_0 = 0.5\n",
    "        period = []\n",
    "        period.append(x_0)\n",
    "        \n",
    "        while t < t_max:\n",
    "            p_a = x_0*R + (1 - x_0)*S\n",
    "            p_b = x_0*T + (1 - x_0)*P\n",
    "            x_1 = x_0*(1 - x_0)*(p_a - p_b) + x_0\n",
    "\n",
    "            period.append(x_1)\n",
    "\n",
    "            if t >= 2:\n",
    "                diff = period[t] - period[t-2]\n",
    "                if diff <= eps:\n",
    "                    nash_array[row,col] = (period[t] + period[t-1])/2     \n",
    "\n",
    "            if x_1 <= eps:\n",
    "                print('total D at time:', t, S,T)\n",
    "                nash_array[row,col] = 0\n",
    "                break\n",
    "            elif x_1 >= 1 - eps:\n",
    "                print('total C at time:', t,S,T)\n",
    "                nash_array[row,col] = 1\n",
    "                break\n",
    "            elif abs(p_a - p_b) <= eps:\n",
    "                print('0 increment at time:',t,S,T)\n",
    "                nash_array[row,col] = x_1\n",
    "                break\n",
    "                \n",
    "            x_0 = x_1\n",
    "            t += 1\n"
   ]
  },
  {
   "cell_type": "code",
   "execution_count": 200,
   "id": "68ed4acf-3ba4-4116-b09e-96eba8f8c6ec",
   "metadata": {},
   "outputs": [],
   "source": [
    "def plot_matrix(matrix):\n",
    "    plt.figure(figsize=(6, 5))\n",
    "    cmap = LinearSegmentedColormap.from_list(\"red_blue\", [\"red\", \"blue\"])\n",
    "    plt.imshow(matrix, extent=[5, 15, 0, 10], aspect='auto', cmap = cmap, vmin = 0, vmax = 1)\n",
    "    plt.xlabel(\"T\")\n",
    "    plt.ylabel(\"S\")\n",
    "    plt.colorbar(label=\"Value\")\n",
    "    plt.tight_layout()\n",
    "    plt.show()"
   ]
  },
  {
   "cell_type": "code",
   "execution_count": 202,
   "id": "35444a22-1a9e-46e5-b50d-de545f2d9471",
   "metadata": {},
   "outputs": [
    {
     "data": {
      "image/png": "[encoded data removed]",
      "text/plain": [
       "<Figure size 600x500 with 2 Axes>"
      ]
     },
     "metadata": {},
     "output_type": "display_data"
    }
   ],
   "source": [
    "plot_matrix(nash_array)"
   ]
  }
 ],
 "metadata": {
  "kernelspec": {
   "display_name": "Python 3 (ipykernel)",
   "language": "python",
   "name": "python3"
  },
  "language_info": {
   "codemirror_mode": {
    "name": "ipython",
    "version": 3
   },
   "file_extension": ".py",
   "mimetype": "text/x-python",
   "name": "python",
   "nbconvert_exporter": "python",
   "pygments_lexer": "ipython3",
   "version": "3.12.2"
  }
 },
 "nbformat": 4,
 "nbformat_minor": 5
}
